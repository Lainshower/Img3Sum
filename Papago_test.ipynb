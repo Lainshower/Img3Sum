{
  "nbformat": 4,
  "nbformat_minor": 0,
  "metadata": {
    "colab": {
      "name": "Papago_test.ipynb",
      "provenance": [],
      "collapsed_sections": []
    },
    "kernelspec": {
      "name": "python3",
      "display_name": "Python 3"
    },
    "language_info": {
      "name": "python"
    }
  },
  "cells": [
    {
      "cell_type": "code",
      "metadata": {
        "id": "x2aZ9rFSc41d"
      },
      "source": [
        "import requests\n",
        "\n",
        "def get_translate(text):\n",
        "  \n",
        "    url = \"https://openapi.naver.com/v1/papago/n2mt\"\n",
        "\n",
        "    client_id = \"DN8hEZj4W7XfX6oDpzDe\" # client_id 기입\n",
        "    client_secret = \"ZABewZQYKD\" #client_secret 기입\n",
        "\n",
        "    data = {'text' : text,\n",
        "            'source' : 'en',\n",
        "            'target': 'ko'}\n",
        "\n",
        "\n",
        "    header = {\"X-Naver-Client-Id\":client_id,\n",
        "              \"X-Naver-Client-Secret\":client_secret}\n",
        "\n",
        "    response = requests.post(url, headers=header, data=data)\n",
        "    rescode = response.status_code\n",
        "\n",
        "    if(rescode==200):\n",
        "        send_data = response.json()\n",
        "        trans_data = (send_data['message']['result']['translatedText'])\n",
        "        return print(trans_data)\n",
        "\n",
        "    else:\n",
        "        print(\"번역실패 <Error Code>:\" , rescode)"
      ],
      "execution_count": 6,
      "outputs": []
    },
    {
      "cell_type": "code",
      "metadata": {
        "colab": {
          "base_uri": "https://localhost:8080/"
        },
        "id": "k1hNww21eaPm",
        "outputId": "06e176f5-9494-4a7a-d715-dd6486224b52"
      },
      "source": [
        "get_translate(\"Every contributor should commit some changes to your remote repository with a proper commit description.\\n4.Share the GitHub repository link in the Deliverable submission.\")"
      ],
      "execution_count": 11,
      "outputs": [
        {
          "output_type": "stream",
          "name": "stdout",
          "text": [
            "모든 작성자는 적절한 커밋 설명과 함께 원격 리포지토리에 대한 일부 변경 사항을 커밋해야 합니다.\n",
            "4.Deliverable(전송 가능) 제출에서 GitHub 저장소 링크를 공유합니다.\n"
          ]
        }
      ]
    },
    {
      "cell_type": "code",
      "metadata": {
        "colab": {
          "base_uri": "https://localhost:8080/"
        },
        "id": "YbhDPFu4d06r",
        "outputId": "70520c63-ec8d-489b-d532-f60bdd4e65c2"
      },
      "source": [
        "import os\n",
        "import sys\n",
        "import urllib.request\n",
        "client_id = \"DN8hEZj4W7XfX6oDpzDe\" # 개발자센터에서 발급받은 Client ID 값\n",
        "client_secret = \"ZABewZQYKD\" # 개발자센터에서 발급받은 Client Secret 값\n",
        "encText = urllib.parse.quote(\"Hello\")\n",
        "data = \"source=en&target=ko&text=\" + encText\n",
        "url = \"https://openapi.naver.com/v1/papago/n2mt\"\n",
        "request = urllib.request.Request(url)\n",
        "request.add_header(\"X-Naver-Client-Id\",client_id)\n",
        "request.add_header(\"X-Naver-Client-Secret\",client_secret)\n",
        "response = urllib.request.urlopen(request, data=data.encode(\"utf-8\"))\n",
        "rescode = response.getcode()\n",
        "if(rescode==200):\n",
        "    response_body = response.read()\n",
        "    print(response_body.decode('utf-8'))\n",
        "else:\n",
        "    print(\"Error Code:\" + rescode)"
      ],
      "execution_count": 5,
      "outputs": [
        {
          "output_type": "stream",
          "name": "stdout",
          "text": [
            "{\"message\":{\"@type\":\"response\",\"@service\":\"naverservice.nmt.proxy\",\"@version\":\"1.0.0\",\"result\":{\"srcLangType\":\"en\",\"tarLangType\":\"ko\",\"translatedText\":\"안녕\",\"engineType\":\"PRETRANS\",\"pivot\":null}}}\n"
          ]
        }
      ]
    },
    {
      "cell_type": "code",
      "metadata": {
        "id": "VJwsq64_fsCy"
      },
      "source": [
        ""
      ],
      "execution_count": null,
      "outputs": []
    }
  ]
}